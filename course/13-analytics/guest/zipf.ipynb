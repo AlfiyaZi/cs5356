{
 "cells": [
  {
   "cell_type": "code",
   "execution_count": 2,
   "metadata": {
    "collapsed": false
   },
   "outputs": [],
   "source": [
    "lines = tuple(open('stella.txt', 'r'))"
   ]
  },
  {
   "cell_type": "code",
   "execution_count": 6,
   "metadata": {
    "collapsed": false
   },
   "outputs": [
    {
     "data": {
      "text/plain": [
       "[336000,\n",
       " 336000,\n",
       " 332300,\n",
       " 332300,\n",
       " 321600,\n",
       " 318400,\n",
       " 318400,\n",
       " 317000,\n",
       " 314500,\n",
       " 313000,\n",
       " 305000,\n",
       " 302500,\n",
       " 301000,\n",
       " 292000,\n",
       " 266500,\n",
       " 253900,\n",
       " 242500,\n",
       " 241000,\n",
       " 232000,\n",
       " 230500,\n",
       " 230500,\n",
       " 229000,\n",
       " 226000,\n",
       " 218500,\n",
       " 218500,\n",
       " 216000,\n",
       " 214750,\n",
       " 212500,\n",
       " 211500,\n",
       " 209000,\n",
       " 207500,\n",
       " 204000,\n",
       " 204000,\n",
       " 204000,\n",
       " 200500,\n",
       " 194500,\n",
       " 194500,\n",
       " 192000,\n",
       " 191000,\n",
       " 188000,\n",
       " 187200,\n",
       " 181750,\n",
       " 171000,\n",
       " 171000,\n",
       " 170500,\n",
       " 169000,\n",
       " 168000,\n",
       " 161000,\n",
       " 160000,\n",
       " 158500,\n",
       " 156000,\n",
       " 156000,\n",
       " 156000,\n",
       " 153600,\n",
       " 149000,\n",
       " 138000,\n",
       " 136300,\n",
       " 134500,\n",
       " 133000,\n",
       " 132000,\n",
       " 132000,\n",
       " 126500,\n",
       " 121000,\n",
       " 120000,\n",
       " 118750,\n",
       " 116500,\n",
       " 114000,\n",
       " 112500,\n",
       " 112500,\n",
       " 112500,\n",
       " 112500,\n",
       " 112500,\n",
       " 110500,\n",
       " 108000,\n",
       " 108000,\n",
       " 108000,\n",
       " 107550,\n",
       " 106250,\n",
       " 106250,\n",
       " 105000,\n",
       " 104250,\n",
       " 102500,\n",
       " 102000,\n",
       " 97000,\n",
       " 97000,\n",
       " 96000,\n",
       " 94000,\n",
       " 93750,\n",
       " 93750,\n",
       " 92750,\n",
       " 92500,\n",
       " 92500,\n",
       " 91000,\n",
       " 90000,\n",
       " 90000,\n",
       " 87500,\n",
       " 87500,\n",
       " 87000,\n",
       " 87000,\n",
       " 86500,\n",
       " 86500,\n",
       " 85000,\n",
       " 85000,\n",
       " 82250,\n",
       " 81250,\n",
       " 81250,\n",
       " 80500,\n",
       " 79500,\n",
       " 78000,\n",
       " 75500,\n",
       " 75000,\n",
       " 72000,\n",
       " 71875,\n",
       " 70600,\n",
       " 70500,\n",
       " 69700]"
      ]
     },
     "execution_count": 6,
     "metadata": {},
     "output_type": "execute_result"
    }
   ],
   "source": [
    "prices = sorted([int(line) for line in lines], reverse=True)\n",
    "prices[100:]\n",
    "\n"
   ]
  },
  {
   "cell_type": "code",
   "execution_count": 4,
   "metadata": {
    "collapsed": false
   },
   "outputs": [
    {
     "data": {
      "image/png": "[encoded data removed]",
      "text/plain": [
       "<matplotlib.figure.Figure at 0x1030b4b50>"
      ]
     },
     "metadata": {},
     "output_type": "display_data"
    }
   ],
   "source": [
    "import matplotlib.pyplot as plt\n",
    "%matplotlib inline\n",
    "\n",
    "rank = list(range(1,len(prices)+1))\n",
    "plt.scatter(rank,prices)\n",
    "plt.show()"
   ]
  },
  {
   "cell_type": "code",
   "execution_count": 5,
   "metadata": {
    "collapsed": false
   },
   "outputs": [
    {
     "data": {
      "text/plain": [
       "[<matplotlib.lines.Line2D at 0x10818ddd0>]"
      ]
     },
     "execution_count": 5,
     "metadata": {},
     "output_type": "execute_result"
    },
    {
     "data": {
      "image/png": "[encoded data removed]",
      "text/plain": [
       "<matplotlib.figure.Figure at 0x10818dd90>"
      ]
     },
     "metadata": {},
     "output_type": "display_data"
    }
   ],
   "source": [
    "import numpy\n",
    "\n",
    "log_prices = numpy.log(numpy.array(prices))\n",
    "plt.scatter(rank,log_prices)\n",
    "plt.plot([max(rank),min(rank)], [min(log_prices),max(log_prices)], 'k-', lw=2)\n",
    "# condition of deficiency, heavy hitter has rubbed off on the rest"
   ]
  },
  {
   "cell_type": "code",
   "execution_count": 20,
   "metadata": {
    "collapsed": false
   },
   "outputs": [
    {
     "data": {
      "text/plain": [
       "(array([ 51.,  30.,  36.,  37.,  26.,  12.,  15.,   6.,   2.,   1.]),\n",
       " array([ 11.1519556 ,  11.67997766,  12.20799972,  12.73602178,\n",
       "         13.26404384,  13.7920659 ,  14.32008796,  14.84811002,\n",
       "         15.37613208,  15.90415414,  16.4321762 ]),\n",
       " <a list of 10 Patch objects>)"
      ]
     },
     "execution_count": 20,
     "metadata": {},
     "output_type": "execute_result"
    },
    {
     "data": {
      "image/png": "[encoded data removed]",
      "text/plain": [
       "<matplotlib.figure.Figure at 0x1090a06d0>"
      ]
     },
     "metadata": {},
     "output_type": "display_data"
    }
   ],
   "source": [
    "plt.hist(log_prices)"
   ]
  },
  {
   "cell_type": "code",
   "execution_count": 1,
   "metadata": {
    "collapsed": true
   },
   "outputs": [],
   "source": [
    "# contrary to what art rank says\n",
    "\n",
    "# now for GitRank"
   ]
  },
  {
   "cell_type": "code",
   "execution_count": 12,
   "metadata": {
    "collapsed": false
   },
   "outputs": [
    {
     "data": {
      "text/html": [
       "<div>\n",
       "<table border=\"1\" class=\"dataframe\">\n",
       "  <thead>\n",
       "    <tr style=\"text-align: right;\">\n",
       "      <th></th>\n",
       "      <th>stars</th>\n",
       "      <th>name</th>\n",
       "    </tr>\n",
       "  </thead>\n",
       "  <tbody>\n",
       "    <tr>\n",
       "      <th>0</th>\n",
       "      <td>197812</td>\n",
       "      <td>godotengine/godot</td>\n",
       "    </tr>\n",
       "    <tr>\n",
       "      <th>1</th>\n",
       "      <td>78906</td>\n",
       "      <td>SFTtech/openage</td>\n",
       "    </tr>\n",
       "    <tr>\n",
       "      <th>2</th>\n",
       "      <td>189518</td>\n",
       "      <td>turbulenz/turbulenz_engine</td>\n",
       "    </tr>\n",
       "    <tr>\n",
       "      <th>3</th>\n",
       "      <td>39453</td>\n",
       "      <td>OpenRA/OpenRA</td>\n",
       "    </tr>\n",
       "    <tr>\n",
       "      <th>4</th>\n",
       "      <td>210492</td>\n",
       "      <td>GarageGames/Torque3D</td>\n",
       "    </tr>\n",
       "    <tr>\n",
       "      <th>5</th>\n",
       "      <td>26302</td>\n",
       "      <td>Gamua/Starling-Framework</td>\n",
       "    </tr>\n",
       "    <tr>\n",
       "      <th>6</th>\n",
       "      <td>22544</td>\n",
       "      <td>gameplay3d/GamePlay</td>\n",
       "    </tr>\n",
       "    <tr>\n",
       "      <th>7</th>\n",
       "      <td>19727</td>\n",
       "      <td>GarageGames/Torque2D</td>\n",
       "    </tr>\n",
       "    <tr>\n",
       "      <th>8</th>\n",
       "      <td>17535</td>\n",
       "      <td>spring/spring</td>\n",
       "    </tr>\n",
       "    <tr>\n",
       "      <th>9</th>\n",
       "      <td>18782</td>\n",
       "      <td>jMonkeyEngine/jmonkeyengine</td>\n",
       "    </tr>\n",
       "    <tr>\n",
       "      <th>10</th>\n",
       "      <td>198189</td>\n",
       "      <td>AdamsLair/duality</td>\n",
       "    </tr>\n",
       "    <tr>\n",
       "      <th>11</th>\n",
       "      <td>13151</td>\n",
       "      <td>Circular-Studios/Dash</td>\n",
       "    </tr>\n",
       "  </tbody>\n",
       "</table>\n",
       "</div>"
      ],
      "text/plain": [
       "     stars                          name\n",
       "0   197812             godotengine/godot\n",
       "1    78906               SFTtech/openage\n",
       "2   189518    turbulenz/turbulenz_engine\n",
       "3    39453                 OpenRA/OpenRA\n",
       "4   210492          GarageGames/Torque3D\n",
       "5    26302      Gamua/Starling-Framework\n",
       "6    22544           gameplay3d/GamePlay\n",
       "7    19727          GarageGames/Torque2D\n",
       "8    17535                 spring/spring\n",
       "9    18782   jMonkeyEngine/jmonkeyengine\n",
       "10  198189             AdamsLair/duality\n",
       "11   13151         Circular-Studios/Dash"
      ]
     },
     "execution_count": 12,
     "metadata": {},
     "output_type": "execute_result"
    }
   ],
   "source": [
    "import pandas\n",
    "repos = pandas.read_csv(\"gitrank.csv\", dtype=str)\n",
    "repos"
   ]
  },
  {
   "cell_type": "code",
   "execution_count": 13,
   "metadata": {
    "collapsed": false
   },
   "outputs": [
    {
     "data": {
      "text/plain": [
       "(array([ 6.,  1.,  0.,  1.,  0.,  0.,  0.,  0.,  1.,  3.]),\n",
       " array([  13151. ,   32885.1,   52619.2,   72353.3,   92087.4,  111821.5,\n",
       "         131555.6,  151289.7,  171023.8,  190757.9,  210492. ]),\n",
       " <a list of 10 Patch objects>)"
      ]
     },
     "execution_count": 13,
     "metadata": {},
     "output_type": "execute_result"
    },
    {
     "data": {
      "image/png": "[encoded data removed]",
      "text/plain": [
       "<matplotlib.figure.Figure at 0x109092850>"
      ]
     },
     "metadata": {},
     "output_type": "display_data"
    }
   ],
   "source": [
    "stars = [int(s) for s in repos[\"stars\"]]\n",
    "plt.hist(stars)\n",
    "\n",
    "# standouts:\n",
    "# turbulenz / turbulenz_engine\n",
    "# GarageGames / Torque3D\n",
    "# AdamsLair / duality"
   ]
  },
  {
   "cell_type": "code",
   "execution_count": 15,
   "metadata": {
    "collapsed": false
   },
   "outputs": [],
   "source": [
    "zipf_stars = [(float(stars[0]) / rank) for rank in range(1,len(stars)+1)]"
   ]
  },
  {
   "cell_type": "code",
   "execution_count": 16,
   "metadata": {
    "collapsed": false
   },
   "outputs": [],
   "source": [
    "quality = numpy.array(stars) / numpy.array(zipf_stars)"
   ]
  },
  {
   "cell_type": "code",
   "execution_count": 17,
   "metadata": {
    "collapsed": false
   },
   "outputs": [
    {
     "data": {
      "text/plain": [
       "array([  1.        ,   0.7977878 ,   2.8742139 ,   0.7977878 ,\n",
       "         5.32050634,   0.7977878 ,   0.79776758,   0.79780802,\n",
       "         0.79780296,   0.94948739,  11.02096435,   0.7977878 ])"
      ]
     },
     "execution_count": 17,
     "metadata": {},
     "output_type": "execute_result"
    }
   ],
   "source": [
    "quality"
   ]
  },
  {
   "cell_type": "code",
   "execution_count": 19,
   "metadata": {
    "collapsed": false
   },
   "outputs": [
    {
     "name": "stdout",
     "output_type": "stream",
     "text": [
      "(2.8742139000667302, ' turbulenz/turbulenz_engine')\n",
      "(5.3205063393525167, ' GarageGames/Torque3D')\n",
      "(11.020964349988878, ' AdamsLair/duality')\n"
     ]
    }
   ],
   "source": [
    "for i in range(0,len(stars)):\n",
    "    if quality[i] > 1:\n",
    "        print((quality[i], repos[\"name\"][i]))"
   ]
  },
  {
   "cell_type": "code",
   "execution_count": null,
   "metadata": {
    "collapsed": true
   },
   "outputs": [],
   "source": [
    "# can say a little more than just that they are anomalies\n",
    "# can say which are the strangest anomalies"
   ]
  }
 ],
 "metadata": {
  "kernelspec": {
   "display_name": "Python 2",
   "language": "python",
   "name": "python2"
  },
  "language_info": {
   "codemirror_mode": {
    "name": "ipython",
    "version": 2
   },
   "file_extension": ".py",
   "mimetype": "text/x-python",
   "name": "python",
   "nbconvert_exporter": "python",
   "pygments_lexer": "ipython2",
   "version": "2.7.8"
  }
 },
 "nbformat": 4,
 "nbformat_minor": 0
}
